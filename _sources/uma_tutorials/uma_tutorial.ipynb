{
 "cells": [
  {
   "cell_type": "markdown",
   "id": "4c1ae412",
   "metadata": {},
   "source": [
    "UMA Intro Tutorial\n",
    "-------------------------------------------------------------\n",
    "\n",
    "This tutorial will walk you through a few examples of how you can use UMA. Each step is covered in more detail elsewhere in the documentation, but this is well suited to a ~1-2 hour tutorial session for researchers new to UMA but with some background in ASE and molecular simulations. \n",
    "\n",
    "\n",
    "# Before you start / installation\n",
    "\n",
    "You need to get a HuggingFace account and request access to the UMA models.\n",
    "\n",
    "You need a Huggingface account, request access to https://huggingface.co/facebook/UMA, and to create a Huggingface token at https://huggingface.co/settings/tokens/ with these permission:\n",
    "\n",
    "Permissions: Read access to contents of all public gated repos you can access\n",
    "\n",
    "Then, add the token as an environment variable (using `huggingface-cli login`:"
   ]
  },
  {
   "cell_type": "code",
   "execution_count": null,
   "id": "a22b9db8",
   "metadata": {
    "tags": [
     "skip-execution"
    ]
   },
   "outputs": [],
   "source": [
    "# Enter token via huggingface-cli\n",
    "! huggingface-cli login"
   ]
  },
  {
   "cell_type": "markdown",
   "id": "e0a52151",
   "metadata": {},
   "source": [
    "or you can set the token via HF_TOKEN variable:"
   ]
  },
  {
   "cell_type": "code",
   "execution_count": null,
   "id": "1c223fa7",
   "metadata": {
    "tags": [
     "skip-execution"
    ]
   },
   "outputs": [],
   "source": [
    "# Set token via env variable\n",
    "import os\n",
    "os.environ['HF_TOKEN'] = 'MYTOKEN'"
   ]
  },
  {
   "cell_type": "markdown",
   "id": "2e414fdc",
   "metadata": {},
   "source": [
    "## Installation process\n",
    "\n",
    "It may be enough to use `pip install fairchem-core`. This gets you the latest version on PyPi (https://pypi.org/project/fairchem-core/)\n",
    "\n",
    "Here we install some sub-packages. This can take 2-5 minutes to run."
   ]
  },
  {
   "cell_type": "code",
   "execution_count": null,
   "id": "1d90583f",
   "metadata": {
    "tags": [
     "skip-execution"
    ]
   },
   "outputs": [],
   "source": [
    "! pip install fairchem-core fairchem-data-oc fairchem-applications-cattsunami x3dase"
   ]
  },
  {
   "cell_type": "code",
   "execution_count": null,
   "id": "0fa9cf93",
   "metadata": {},
   "outputs": [],
   "source": [
    "# Check that packages are installed\n",
    "!pip list | grep fairchem"
   ]
  },
  {
   "cell_type": "code",
   "execution_count": null,
   "id": "a9eeb5a2",
   "metadata": {},
   "outputs": [],
   "source": [
    "import fairchem.core\n",
    "\n",
    "fairchem.core.__version__"
   ]
  },
  {
   "cell_type": "markdown",
   "id": "b12c95de",
   "metadata": {},
   "source": [
    "# Illustrative examples\n",
    "\n",
    "These should just run, and are here to show some basic uses.\n",
    "\n",
    "Critical points:\n",
    "\n",
    "1. Create a calculator\n",
    "2. Specify the **task_name**\n",
    "3. Use calculator like other ASE calculators\n",
    "\n",
    "## Spin gap energy - OMOL\n",
    "\n",
    "This is the difference in energy between a triplet and single ground state for a CH2 radical. This downloads a ~1GB checkpoint the first time you run it.\n",
    "\n",
    "We don't set a device here, so we get a warning about using a CPU device. You can ignore that. If a CUDA environment is available, a GPU may be used to speed up the calculations."
   ]
  },
  {
   "cell_type": "code",
   "execution_count": null,
   "id": "59105c07",
   "metadata": {},
   "outputs": [],
   "source": [
    "from fairchem.core import FAIRChemCalculator, pretrained_mlip\n",
    "\n",
    "predictor = pretrained_mlip.get_predict_unit(\"uma-s-1\")"
   ]
  },
  {
   "cell_type": "code",
   "execution_count": null,
   "id": "c85565d1",
   "metadata": {},
   "outputs": [],
   "source": [
    "from ase.build import molecule\n",
    "\n",
    "#  singlet CH2\n",
    "singlet = molecule(\"CH2_s1A1d\")\n",
    "singlet.info.update({\"spin\": 1, \"charge\": 0})\n",
    "singlet.calc = FAIRChemCalculator(predictor, task_name=\"omol\")\n",
    "\n",
    "#  triplet CH2\n",
    "triplet = molecule(\"CH2_s3B1d\")\n",
    "triplet.info.update({\"spin\": 3, \"charge\": 0})\n",
    "triplet.calc = FAIRChemCalculator(predictor, task_name=\"omol\")\n",
    "\n",
    "print(triplet.get_potential_energy() - singlet.get_potential_energy())"
   ]
  },
  {
   "cell_type": "markdown",
   "id": "7fdc0996",
   "metadata": {},
   "source": [
    "## Example of adsorbate relaxation - OC20\n",
    "\n",
    "Here we just setup a Cu(100) slab with a CO on it and relax it.\n",
    "\n",
    "This is an OC20 task because it is a slab with an adsorbate.\n",
    "\n",
    "We specify an explicit device in the predictor here, and avoid the warning."
   ]
  },
  {
   "cell_type": "code",
   "execution_count": null,
   "id": "25bdd62a",
   "metadata": {},
   "outputs": [],
   "source": [
    "from ase.build import add_adsorbate, fcc100, molecule\n",
    "from ase.optimize import LBFGS\n",
    "from fairchem.core import FAIRChemCalculator, pretrained_mlip\n",
    "\n",
    "predictor = pretrained_mlip.get_predict_unit(\"uma-s-1\")\n",
    "calc = FAIRChemCalculator(predictor, task_name=\"oc20\")\n",
    "\n",
    "# Set up your system as an ASE atoms object\n",
    "slab = fcc100(\"Cu\", (3, 3, 3), vacuum=8, periodic=True)\n",
    "\n",
    "adsorbate = molecule(\"CO\")\n",
    "add_adsorbate(slab, adsorbate, 2.0, \"bridge\")\n",
    "slab.calc = calc\n",
    "\n",
    "# Set up LBFGS dynamics object\n",
    "opt = LBFGS(slab)\n",
    "opt.run(0.05, 100)\n",
    "print(slab.get_potential_energy())"
   ]
  },
  {
   "cell_type": "markdown",
   "id": "d49a0cef",
   "metadata": {},
   "source": [
    "# Example bulk relaxation - OMAT"
   ]
  },
  {
   "cell_type": "code",
   "execution_count": null,
   "id": "7d9867ca",
   "metadata": {},
   "outputs": [],
   "source": [
    "from ase.build import bulk\n",
    "from ase.filters import FrechetCellFilter\n",
    "from ase.optimize import FIRE\n",
    "from fairchem.core import FAIRChemCalculator, pretrained_mlip\n",
    "\n",
    "predictor = pretrained_mlip.get_predict_unit(\"uma-s-1\")\n",
    "calc = FAIRChemCalculator(predictor, task_name=\"omat\")\n",
    "\n",
    "atoms = bulk(\"Fe\")\n",
    "atoms.calc = calc\n",
    "\n",
    "opt = FIRE(FrechetCellFilter(atoms))\n",
    "opt.run(0.05, 100)\n",
    "\n",
    "print(atoms.get_stress())  # !!!! We get stress now!"
   ]
  },
  {
   "cell_type": "markdown",
   "id": "9e60d0bf",
   "metadata": {},
   "source": [
    "## Molecular dynamics - OMOL"
   ]
  },
  {
   "cell_type": "code",
   "execution_count": null,
   "id": "ba4ce54b",
   "metadata": {},
   "outputs": [],
   "source": [
    "import matplotlib.pyplot as plt\n",
    "\n",
    "from ase import units\n",
    "from ase.build import molecule\n",
    "from ase.io import Trajectory\n",
    "from ase.md.langevin import Langevin\n",
    "from fairchem.core import FAIRChemCalculator, pretrained_mlip\n",
    "\n",
    "predictor = pretrained_mlip.get_predict_unit(\"uma-s-1\")\n",
    "calc = FAIRChemCalculator(predictor, task_name=\"omol\")\n",
    "\n",
    "atoms = molecule(\"H2O\")\n",
    "atoms.info.update(charge=0, spin=1)  # For omol\n",
    "\n",
    "atoms.calc = calc\n",
    "\n",
    "dyn = Langevin(\n",
    "    atoms,\n",
    "    timestep=0.1 * units.fs,\n",
    "    temperature_K=400,\n",
    "    friction=0.001 / units.fs,\n",
    ")\n",
    "\n",
    "trajectory = Trajectory(\"my_md.traj\", \"w\", atoms)\n",
    "dyn.attach(trajectory.write, interval=1)\n",
    "dyn.run(steps=50)\n",
    "\n",
    "# See some results - not paper ready!\n",
    "traj = Trajectory(\"my_md.traj\")\n",
    "plt.plot(\n",
    "    [i * 0.1 * units.fs for i in range(len(traj))],\n",
    "    [a.get_potential_energy() for a in traj],\n",
    ")\n",
    "plt.xlabel(\"Time (fs)\")\n",
    "plt.ylabel(\"Energy (eV)\");"
   ]
  },
  {
   "cell_type": "markdown",
   "id": "4869fcff",
   "metadata": {},
   "source": [
    "# [Catalyst Adsorption energies](../catalysts/examples_tutorials/OCP-introduction)\n",
    "\n",
    "The basic approach in computing an adsorption energy is to compute this energy difference:\n",
    "\n",
    "    dH = E_adslab - E_slab - E_ads\n",
    "\n",
    "We use UMA for two of these energies `E_adslab` and `E_slab`. For `E_ads` We have to do something a little different. The OC20 task is not trained for molecules or molecular fragments. We use atomic energy reference energies instead.  These are tabulated below.\n",
    "\n",
    "The OC20 reference scheme is this reaction:\n",
    "\n",
    "    x CO + (x + y/2 - z) H2 + (z-x) H2O + w/2 N2 + * -> CxHyOzNw*  \n",
    "\n",
    "For this example we have\n",
    "\n",
    "    -H2 + H2O + * -> O*.   \"O\": -7.204 eV\n",
    "\n",
    "Where `\"O\": -7.204` is a constant.\n",
    "\n",
    "To get the desired reaction energy we want we add the formation energy of water. We use either DFT or experimental values for this reaction energy.\n",
    "\n",
    "    1/2O2 + H2 -> H2O\n",
    "\n",
    "Alternatives to this approach are using DFT to estimate the energy of 1/2 O2, just make sure to use consistent settings with your task. You should not use OMOL for this."
   ]
  },
  {
   "cell_type": "code",
   "execution_count": null,
   "id": "1ad3a79a",
   "metadata": {},
   "outputs": [],
   "source": [
    "from ase.build import add_adsorbate, fcc111\n",
    "from ase.optimize import BFGS\n",
    "from fairchem.core import FAIRChemCalculator, pretrained_mlip\n",
    "\n",
    "predictor = pretrained_mlip.get_predict_unit(\"uma-s-1\")\n",
    "calc = FAIRChemCalculator(predictor, task_name=\"oc20\")"
   ]
  },
  {
   "cell_type": "code",
   "execution_count": null,
   "id": "5e6216f5",
   "metadata": {},
   "outputs": [],
   "source": [
    "# reference energies from a linear combination of H2O/N2/CO/H2!\n",
    "atomic_reference_energies = {\n",
    "    \"H\": -3.477,\n",
    "    \"N\": -8.083,\n",
    "    \"O\": -7.204,\n",
    "    \"C\": -7.282,\n",
    "}\n",
    "\n",
    "re1 = -3.03  # Water formation energy from experiment\n",
    "\n",
    "slab = fcc111(\"Pt\", size=(2, 2, 5), vacuum=20.0)\n",
    "slab.pbc = True\n",
    "\n",
    "adslab = slab.copy()\n",
    "add_adsorbate(adslab, \"O\", height=1.2, position=\"fcc\")\n",
    "\n",
    "slab.calc = calc\n",
    "opt = BFGS(slab)\n",
    "print(\"Relaxing slab\")\n",
    "opt.run(fmax=0.05, steps=100)\n",
    "slab_e = slab.get_potential_energy()\n",
    "\n",
    "adslab.calc = calc\n",
    "opt = BFGS(adslab)\n",
    "print(\"\\nRelaxing adslab\")\n",
    "opt.run(fmax=0.05, steps=100)\n",
    "adslab_e = adslab.get_potential_energy()"
   ]
  },
  {
   "cell_type": "markdown",
   "id": "1c165d05",
   "metadata": {},
   "source": [
    "Now we compute the adsorption energy."
   ]
  },
  {
   "cell_type": "code",
   "execution_count": null,
   "id": "f311b529",
   "metadata": {},
   "outputs": [],
   "source": [
    "# Energy for ((H2O-H2) + * -> *O) + (H2 + 1/2O2 -> H2O) leads to 1/2O2 + * -> *O!\n",
    "adslab_e - slab_e - atomic_reference_energies[\"O\"] + re1"
   ]
  },
  {
   "cell_type": "markdown",
   "id": "aeccf2af",
   "metadata": {},
   "source": [
    "How did we do? We need a reference point. In the paper below, there is an atomic adsorption energy for O on Pt(111) of about -4.264 eV. This is for the reaction O + * -> O*. To convert this to the dissociative adsorption energy, we have to add the reaction:\n",
    "\n",
    "    1/2 O2 -> O   D = 2.58 eV (expt)\n",
    "\n",
    "to get a comparable energy of about -1.68 eV. There is about ~0.2 eV difference (we predicted -1.47 eV above, and the reference comparison is -1.68 eV) to account for. The biggest difference is likely due to the differences in exchange-correlation functional. The reference data used the PBE functional, and eSCN was trained on RPBE data. To additional places where there are differences include:\n",
    "\n",
    "1. Difference in lattice constant\n",
    "\n",
    "2. The reference energy used for the experiment references. These can differ by up to 0.5 eV from comparable DFT calculations.\n",
    "\n",
    "2. How many layers are relaxed in the calculation\n",
    "\n",
    "Some of these differences tend to be systematic, and you can calibrate and correct these, especially if you can augment these with your own DFT calculations.\n",
    "\n",
    "It is always a good idea to visualize the geometries to make sure they look reasonable."
   ]
  },
  {
   "cell_type": "code",
   "execution_count": null,
   "id": "cfac276e",
   "metadata": {},
   "outputs": [],
   "source": [
    "import matplotlib.pyplot as plt\n",
    "from ase.visualize.plot import plot_atoms\n",
    "\n",
    "fig, axs = plt.subplots(1, 2)\n",
    "plot_atoms(slab, axs[0])\n",
    "plot_atoms(slab, axs[1], rotation=(\"-90x\"))\n",
    "axs[0].set_axis_off()\n",
    "axs[1].set_axis_off()"
   ]
  },
  {
   "cell_type": "code",
   "execution_count": null,
   "id": "39f1159c",
   "metadata": {},
   "outputs": [],
   "source": [
    "fig, axs = plt.subplots(1, 2)\n",
    "plot_atoms(adslab, axs[0])\n",
    "plot_atoms(adslab, axs[1], rotation=(\"-90x\"))\n",
    "axs[0].set_axis_off()\n",
    "axs[1].set_axis_off()"
   ]
  },
  {
   "cell_type": "markdown",
   "id": "74693e2c",
   "metadata": {},
   "source": [
    "# Molecular vibrations"
   ]
  },
  {
   "cell_type": "code",
   "execution_count": null,
   "id": "011df8d4",
   "metadata": {},
   "outputs": [],
   "source": [
    "from ase import Atoms\n",
    "from ase.optimize import BFGS\n",
    "\n",
    "predictor = pretrained_mlip.get_predict_unit(\"uma-s-1\")\n",
    "calc = FAIRChemCalculator(predictor, task_name=\"omol\")\n",
    "\n",
    "from ase.vibrations import Vibrations\n",
    "\n",
    "n2 = Atoms(\"N2\", [(0, 0, 0), (0, 0, 1.1)])\n",
    "n2.info.update({\"spin\": 1, \"charge\": 0})\n",
    "n2.calc = calc\n",
    "\n",
    "BFGS(n2).run(fmax=0.01)"
   ]
  },
  {
   "cell_type": "code",
   "execution_count": null,
   "id": "ac8e1184",
   "metadata": {},
   "outputs": [],
   "source": [
    "vib = Vibrations(n2)\n",
    "vib.run()\n",
    "vib.summary()"
   ]
  },
  {
   "cell_type": "markdown",
   "id": "a95c3c29",
   "metadata": {},
   "source": [
    "# Bulk alloy phase behavior\n",
    "\n",
    "Adapted from https://kitchingroup.cheme.cmu.edu/dft-book/dft.html#orgheadline29\n",
    "\n",
    "We manually compute the formation energy of pure compounds and some alloy compositions to assess stability."
   ]
  },
  {
   "cell_type": "code",
   "execution_count": null,
   "id": "63cade06",
   "metadata": {},
   "outputs": [],
   "source": [
    "from ase.atoms import Atom, Atoms\n",
    "from ase.filters import FrechetCellFilter\n",
    "from ase.optimize import FIRE\n",
    "from fairchem.core import FAIRChemCalculator, pretrained_mlip\n",
    "\n",
    "predictor = pretrained_mlip.get_predict_unit(\"uma-s-1\")\n",
    "\n",
    "cu = Atoms(\n",
    "    [Atom(\"Cu\", [0.000, 0.000, 0.000])],\n",
    "    cell=[[1.818, 0.000, 1.818], [1.818, 1.818, 0.000], [0.000, 1.818, 1.818]],\n",
    "    pbc=True,\n",
    ")\n",
    "cu.calc = FAIRChemCalculator(predictor, task_name=\"omat\")\n",
    "\n",
    "opt = FIRE(FrechetCellFilter(cu))\n",
    "opt.run(0.05, 100)\n",
    "\n",
    "cu.get_potential_energy()"
   ]
  },
  {
   "cell_type": "code",
   "execution_count": null,
   "id": "fec7df73",
   "metadata": {},
   "outputs": [],
   "source": [
    "pd = Atoms(\n",
    "    [Atom(\"Pd\", [0.000, 0.000, 0.000])],\n",
    "    cell=[[1.978, 0.000, 1.978], [1.978, 1.978, 0.000], [0.000, 1.978, 1.978]],\n",
    "    pbc=True,\n",
    ")\n",
    "pd.calc = FAIRChemCalculator(predictor, task_name=\"omat\")\n",
    "\n",
    "opt = FIRE(FrechetCellFilter(pd))\n",
    "opt.run(0.05, 100)\n",
    "\n",
    "pd.get_potential_energy()"
   ]
  },
  {
   "cell_type": "markdown",
   "id": "ed8308c3",
   "metadata": {},
   "source": [
    "## Alloy formation energies"
   ]
  },
  {
   "cell_type": "code",
   "execution_count": null,
   "id": "d08036bd",
   "metadata": {},
   "outputs": [],
   "source": [
    "cupd1 = Atoms(\n",
    "    [Atom(\"Cu\", [0.000, 0.000, 0.000]), Atom(\"Pd\", [-1.652, 0.000, 2.039])],\n",
    "    cell=[[0.000, -2.039, 2.039], [0.000, 2.039, 2.039], [-3.303, 0.000, 0.000]],\n",
    "    pbc=True,\n",
    ")  # Note pbc=True is important, it is not the default and OMAT\n",
    "\n",
    "cupd1.calc = FAIRChemCalculator(predictor, task_name=\"omat\")\n",
    "\n",
    "opt = FIRE(FrechetCellFilter(cupd1))\n",
    "opt.run(0.05, 100)\n",
    "\n",
    "cupd1.get_potential_energy()"
   ]
  },
  {
   "cell_type": "code",
   "execution_count": null,
   "id": "893de364",
   "metadata": {},
   "outputs": [],
   "source": [
    "cupd2 = Atoms(\n",
    "    [\n",
    "        Atom(\"Cu\", [-0.049, 0.049, 0.049]),\n",
    "        Atom(\"Cu\", [-11.170, 11.170, 11.170]),\n",
    "        Atom(\"Pd\", [-7.415, 7.415, 7.415]),\n",
    "        Atom(\"Pd\", [-3.804, 3.804, 3.804]),\n",
    "    ],\n",
    "    cell=[[-5.629, 3.701, 5.629], [-3.701, 5.629, 5.629], [-5.629, 5.629, 3.701]],\n",
    "    pbc=True,\n",
    ")\n",
    "cupd2.calc = FAIRChemCalculator(predictor, task_name=\"omat\")\n",
    "\n",
    "opt = FIRE(FrechetCellFilter(cupd2))\n",
    "opt.run(0.05, 100)\n",
    "\n",
    "cupd2.get_potential_energy()"
   ]
  },
  {
   "cell_type": "code",
   "execution_count": null,
   "id": "58983f95",
   "metadata": {},
   "outputs": [],
   "source": [
    "# Delta Hf cupd-1 = -0.11 eV/atom\n",
    "hf1 = (\n",
    "    cupd1.get_potential_energy() - cu.get_potential_energy() - pd.get_potential_energy()\n",
    ")\n",
    "hf1"
   ]
  },
  {
   "cell_type": "code",
   "execution_count": null,
   "id": "fbec41f6",
   "metadata": {},
   "outputs": [],
   "source": [
    "# DFT: Delta Hf cupd-2 = -0.04 eV/atom\n",
    "hf2 = (\n",
    "    cupd2.get_potential_energy()\n",
    "    - 2 * cu.get_potential_energy()\n",
    "    - 2 * pd.get_potential_energy()\n",
    ")\n",
    "hf2"
   ]
  },
  {
   "cell_type": "code",
   "execution_count": null,
   "id": "9d592f29",
   "metadata": {},
   "outputs": [],
   "source": [
    "hf1 - hf2, (-0.11 - -0.04)"
   ]
  },
  {
   "cell_type": "markdown",
   "id": "f50c2d34",
   "metadata": {},
   "source": [
    "These indicate that cupd-1 and cupd-2 are both more stable than phase separated Cu and Pd, and that cupd-1 is more stable than cupd-2. The absolute formation energies differ from the DFT references, but the relative differences are quite close. The absolute differences could be due to DFT parameter choices (XC, psp, etc.).\n",
    "\n",
    "\n",
    "## Phonon calculation\n",
    "\n",
    "This takes 4-10 minutes. Adapted from https://wiki.fysik.dtu.dk/ase/ase/phonons.html#example.\n",
    "\n",
    "Phonons have applications in computing the stability and free energy of solids. See:\n",
    "\n",
    "1. https://www.sciencedirect.com/science/article/pii/S1359646215003127\n",
    "2. https://iopscience.iop.org/book/mono/978-0-7503-2572-1/chapter/bk978-0-7503-2572-1ch1"
   ]
  },
  {
   "cell_type": "code",
   "execution_count": null,
   "id": "9c6cd9d8",
   "metadata": {},
   "outputs": [],
   "source": [
    "from ase.build import bulk\n",
    "from ase.phonons import Phonons\n",
    "\n",
    "predictor = pretrained_mlip.get_predict_unit(\"uma-s-1\")\n",
    "calc = FAIRChemCalculator(predictor, task_name=\"omat\")\n",
    "\n",
    "# Setup crystal\n",
    "atoms = bulk(\"Al\", \"fcc\", a=4.05)\n",
    "\n",
    "# Phonon calculator\n",
    "N = 7\n",
    "ph = Phonons(atoms, calc, supercell=(N, N, N), delta=0.05)\n",
    "ph.run()\n",
    "\n",
    "# Read forces and assemble the dynamical matrix\n",
    "ph.read(acoustic=True)\n",
    "ph.clean()\n",
    "\n",
    "path = atoms.cell.bandpath(\"GXULGK\", npoints=100)\n",
    "bs = ph.get_band_structure(path)\n",
    "\n",
    "dos = ph.get_dos(kpts=(20, 20, 20)).sample_grid(npts=100, width=1e-3)"
   ]
  },
  {
   "cell_type": "code",
   "execution_count": null,
   "id": "0dde79b0",
   "metadata": {},
   "outputs": [],
   "source": [
    "# Plot the band structure and DOS:\n",
    "import matplotlib.pyplot as plt  # noqa\n",
    "\n",
    "fig = plt.figure(figsize=(7, 4))\n",
    "ax = fig.add_axes([0.12, 0.07, 0.67, 0.85])\n",
    "\n",
    "emax = 0.04\n",
    "bs.plot(ax=ax, emin=0.0, emax=emax)\n",
    "\n",
    "dosax = fig.add_axes([0.8, 0.07, 0.17, 0.85])\n",
    "dosax.fill_between(\n",
    "    dos.get_weights(),\n",
    "    dos.get_energies(),\n",
    "    y2=0,\n",
    "    color=\"grey\",\n",
    "    edgecolor=\"k\",\n",
    "    lw=1,\n",
    ")\n",
    "\n",
    "dosax.set_ylim(0, emax)\n",
    "dosax.set_yticks([])\n",
    "dosax.set_xticks([])\n",
    "dosax.set_xlabel(\"DOS\", fontsize=18);"
   ]
  },
  {
   "cell_type": "markdown",
   "id": "2c321224",
   "metadata": {},
   "source": [
    "# Transition States (NEBs)\n",
    "\n",
    "Nudged elastic band calculations are among the most costly calculations we do. UMA makes these quicker!\n",
    "\n",
    "1. Get initial state\n",
    "2. Get final state\n",
    "3. Construct band and interpolate the images\n",
    "4. Relax the band\n",
    "5. Analyze and plot the band.\n",
    "\n",
    "\n",
    "We explore diffusion of an O adatom from an hcp to an fcc site on Pt(111).\n",
    "\n",
    "\n",
    "## Initial state"
   ]
  },
  {
   "cell_type": "code",
   "execution_count": null,
   "id": "b17fdf7c",
   "metadata": {},
   "outputs": [],
   "source": [
    "from ase.build import add_adsorbate, fcc111, molecule\n",
    "from ase.optimize import LBFGS\n",
    "from fairchem.core import FAIRChemCalculator, pretrained_mlip\n",
    "\n",
    "predictor = pretrained_mlip.get_predict_unit(\"uma-s-1\")\n",
    "calc = FAIRChemCalculator(predictor, task_name=\"oc20\")\n",
    "\n",
    "# Set up your system as an ASE atoms object\n",
    "initial = fcc111(\"Pt\", (3, 3, 3), vacuum=8, periodic=True)\n",
    "\n",
    "adsorbate = molecule(\"O\")\n",
    "add_adsorbate(initial, adsorbate, 2.0, \"fcc\")\n",
    "initial.calc = calc\n",
    "\n",
    "# Set up LBFGS dynamics object\n",
    "opt = LBFGS(initial)\n",
    "opt.run(0.05, 100)\n",
    "print(initial.get_potential_energy())"
   ]
  },
  {
   "cell_type": "markdown",
   "id": "0d6ccbf5",
   "metadata": {},
   "source": [
    "## Final state"
   ]
  },
  {
   "cell_type": "code",
   "execution_count": null,
   "id": "9c0af2cd",
   "metadata": {},
   "outputs": [],
   "source": [
    "# Set up your system as an ASE atoms object\n",
    "final = fcc111(\"Pt\", (3, 3, 3), vacuum=8, periodic=True)\n",
    "\n",
    "adsorbate = molecule(\"O\")\n",
    "add_adsorbate(final, adsorbate, 2.0, \"hcp\")\n",
    "final.calc = FAIRChemCalculator(predictor, task_name=\"oc20\")\n",
    "\n",
    "# Set up LBFGS dynamics object\n",
    "opt = LBFGS(final)\n",
    "opt.run(0.05, 100)\n",
    "print(final.get_potential_energy())"
   ]
  },
  {
   "cell_type": "markdown",
   "id": "0e0e0145",
   "metadata": {},
   "source": [
    "## Setup and relax the band"
   ]
  },
  {
   "cell_type": "code",
   "execution_count": null,
   "id": "7ca6f75b",
   "metadata": {},
   "outputs": [],
   "source": [
    "from ase.mep import NEB\n",
    "\n",
    "images = [initial]\n",
    "for i in range(3):\n",
    "    image = initial.copy()\n",
    "    image.calc = FAIRChemCalculator(predictor, task_name=\"oc20\")\n",
    "    images.append(image)\n",
    "\n",
    "images.append(final)\n",
    "\n",
    "\n",
    "neb = NEB(images)\n",
    "neb.interpolate()\n",
    "\n",
    "opt = LBFGS(neb, trajectory=\"neb.traj\")\n",
    "opt.run(0.05, 100)"
   ]
  },
  {
   "cell_type": "code",
   "execution_count": null,
   "id": "5a334c1c",
   "metadata": {},
   "outputs": [],
   "source": [
    "from ase.mep import NEBTools\n",
    "\n",
    "NEBTools(neb.images).plot_band();"
   ]
  },
  {
   "cell_type": "markdown",
   "id": "8d98d062",
   "metadata": {},
   "source": [
    "This could be a good initial guess to initialize an NEB in DFT.\n",
    "\n",
    "\n",
    "# Ideas for things you can do with UMA\n",
    "\n",
    "1. FineTuna - use it for initial geometry optimizations then do DFT\n",
    "\n",
    "  a. https://iopscience.iop.org/article/10.1088/2632-2153/ac8fe0\n",
    "\n",
    "  b. https://iopscience.iop.org/article/10.1088/2632-2153/ad37f0\n",
    "\n",
    "2. AdsorbML - prescreen adsorption sites to find relevant ones\n",
    "\n",
    "  a. https://www.nature.com/articles/s41524-023-01121-5\n",
    "\n",
    "3. CatTsunami - screen NEBs more thoroughly\n",
    "\n",
    "  a. https://pubs.acs.org/doi/10.1021/acscatal.4c04272\n",
    "\n",
    "4. Free energy estimations - compute vibrational modes and use them to estimate vibrational entropy\n",
    "\n",
    "  a. https://pubs.acs.org/doi/10.1021/acs.jpcc.4c07477\n",
    "\n",
    "5. Massive screening of catalyst surface properties (685M relaxations)\n",
    "\n",
    "  a. https://arxiv.org/abs/2411.11783\n",
    "\n",
    "\n",
    "# Advanced applications\n",
    "\n",
    "These take a while to run.\n",
    "\n",
    "\n",
    "## [AdsorbML](../catalysts/examples_tutorials/adsorbml_walkthrough.md)\n",
    "\n",
    "\n",
    "It is so cheap to run these calculations that we can screen a broad range of adsorbate sites and rank them in stability. The AdsorbML approach automates this. This takes quite a while to run here, and we don't do it in the workshop.\n",
    "\n",
    "\n",
    "## [Expert adsorption energies](../catalysts/examples_tutorials/adsorption_energies/adsorption_energies.md)\n",
    "\n",
    "This tutorial reproduces Fig 6b from the following paper: Zhou, Jing, et al. “Enhanced Catalytic Activity of Bimetallic Ordered Catalysts for Nitrogen Reduction Reaction by Perturbation of Scaling Relations.” ACS Catalysis 134 (2023): 2190-2201 (https://doi.org/10.1021/acscatal.2c05877).\n",
    "\n",
    "This takes up to an hour with a GPU, and much longer with a CPU.\n",
    "\n",
    "## [CatTsunami](../catalysts/examples_tutorials/cattsunami_tutorial.md)\n",
    "\n",
    "The CatTsunami tutorial is an example of enumerating initial and final states, and computing reaction paths between them with UMA.\n",
    "\n",
    "## Acknowledgements \n",
    "\n",
    "This tutorial was originally compiled by John Kitchin (CMU) for the NAM29 catalysis tutorial session, using a variety of resources from the FAIR chemistry repository."
   ]
  }
 ],
 "metadata": {
  "kernelspec": {
   "display_name": "Python 3 (ipykernel)",
   "language": "python",
   "name": "python3"
  }
 },
 "nbformat": 4,
 "nbformat_minor": 5
}
